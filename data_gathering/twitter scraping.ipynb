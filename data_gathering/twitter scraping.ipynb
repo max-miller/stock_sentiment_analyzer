{
 "cells": [
  {
   "cell_type": "markdown",
   "metadata": {},
   "source": [
    "Twitter has a very restrictive API/charges you for more than 50 requests a month (!), so I looked into other options to try to scrape down the text from tweets. A classmate suggest Twint, which looks like a great tool, though turned out to be hard to install for inexplicable reasons and then ended up not actually working on my machine?\n",
    "\n",
    "Twint prints out an output of the tweets it scrapes, but also ostensibly is meant to be able to save down the actual data into a csv, json or directly into a pandas dataframe. For some reason, on my machine it won't save the scraped data down. So this notebook consists mostly of my workaround for getting at the scraped data which involves saving down the system output of the scraper to a .txt file, then reading the contents of that file back into the notebook as a string upon which the sentiment analysis could be performed. As with the NYT article scraping, I did the actual scraping with .py file in the terminal, rather than from the notebook, which would be a little over-burdened by the scraping at scale."
   ]
  },
  {
   "cell_type": "code",
   "execution_count": 1,
   "metadata": {},
   "outputs": [],
   "source": [
    "import twint\n",
    "import nest_asyncio\n",
    "nest_asyncio.apply()\n",
    "import datetime\n",
    "import nltk\n",
    "from nltk.sentiment.vader import SentimentIntensityAnalyzer\n",
    "import pandas as pd\n",
    "import sys\n",
    "import io\n",
    "import re"
   ]
  },
  {
   "cell_type": "code",
   "execution_count": 2,
   "metadata": {},
   "outputs": [
    {
     "name": "stdout",
     "output_type": "stream",
     "text": [
      "1146931552879857664 2019-07-04 19:59:25 EDT <TrashBoat3015> So this happened today, thought it was appropriate. They all can’t be Tesla, but the RW&B is represented. I’m the blue. 🇺🇸 pic.twitter.com/JesE4pecy3\n",
      "1146931204932931585 2019-07-04 19:58:02 EDT <Auto_nerdz> To you to sir!\n",
      "1146929631729078272 2019-07-04 19:51:47 EDT <MaryDaisy16> Elon, if I ever buy a car again it will be electric; and it will be because you have quietly shown us how and why. @elonmusk\n",
      "1146928818281578500 2019-07-04 19:48:33 EDT <tonyjwinter> Happy #4ofJuly to #Tesla from happy owners! pic.twitter.com/SBtJrkDi7b\n",
      "1146927706287890432 2019-07-04 19:44:08 EDT <R0BOT> Out here charging in Nacogdoches Texas on my way home to Houston from 4th of July festivities. pic.twitter.com/iiuHbJDEJy\n",
      "1146926241968033792 2019-07-04 19:38:19 EDT <Adellasmith2032> Happy 4th of July! pic.twitter.com/NBLIPG44GN\n",
      "1146924172146368512 2019-07-04 19:30:06 EDT <cryptonewszcom> @Tesla can maintain its deliveries momentum by driveway deliveries service #CryptoNewsZ #Car #Revenues https://www.cryptonewsz.com/driveway-deliveries-service-could-help-tesla-to-maintain-deliveries-momentum/29952/ …\n",
      "1146924137811550208 2019-07-04 19:29:57 EDT <Jimmy93130448>  pic.twitter.com/Vq8YNseTFB\n",
      "1146922030396256257 2019-07-04 19:21:35 EDT <tecnocato> @Tesla damaged (corrected?) my perception of gasoline car sounds: they all sound like farts 💨 now, and they stink (contaminate) too.  Tesla Model 3 VS BMW M3 Top Gear missed it!  https://youtu.be/DZVUcWtnC4s  via @YouTube\n",
      "1146921958304387072 2019-07-04 19:21:18 EDT <ZaradOsha> Who needs a truck\n",
      "1146919303981207552 2019-07-04 19:10:45 EDT <isaiahshall> Let us know when to expect that regular default white paint color, please! Waiting to check configuration and purchase\n",
      "1146918183728754689 2019-07-04 19:06:18 EDT <obintouq> @Tesla how i can use the map when I can on the car any way to do that for planning and adding location.\n",
      "1146917383405072384 2019-07-04 19:03:07 EDT <megafishbein> @Tesla should rebrand to “Mars Cars” when @elonmusk gets us there.\n",
      "1146917224298553346 2019-07-04 19:02:29 EDT <PalKindblom> Will it stop for deer 🦌 , moose 🦓 and wild boar 🐗, in Sweden alone it’s >50.000 wild life collisions yearly.\n",
      "1146917160993923075 2019-07-04 19:02:14 EDT <Joachim_Lue> Because Teslas still can't run Minecraft\n",
      "1146917131080085505 2019-07-04 19:02:07 EDT <JObrycki> *raises hand*\n",
      "1146916753848410112 2019-07-04 19:00:37 EDT <mjoyourself> @Tesla is a 5’10 person in the backseat really gonna bump her head on the ceiling if we go over a bumpy road? All the more reason to be the driver in this life... #smh #longlegs\n",
      "1146916244563681280 2019-07-04 18:58:36 EDT <Joachim_Lue> Only if it can run Minecraft\n",
      "1146913857094524933 2019-07-04 18:49:06 EDT <AngryLeftistGuy> @Tesla Can we have an in-car app with weather and radar? Bonus points if it overlays radar on the roadmap.\n",
      "1146913578592755713 2019-07-04 18:48:00 EDT <thediggity90> Yesss\n"
     ]
    }
   ],
   "source": [
    "#an example of a twint search on it's own\n",
    "search = twint.Config() #instantiate a twint object\n",
    "search.To = 'Tesla' #attributes of the object relate to the particular search\n",
    "search.Limit = 10\n",
    "search.Since = '2019-07-04'\n",
    "search.Until = '2019-07-05'\n",
    "twint.run.Search(search) #perform the search"
   ]
  },
  {
   "cell_type": "markdown",
   "metadata": {},
   "source": [
    "So this search is working just fine, but I don't have a good way of handling the output as is: twint is simply printing the result. They can't be directly saved into an object and, as I mentioned, twint's functionality to save down the scraped data doesn't work on my machine.\n",
    "\n",
    "So, how to actually store and access this data? Here's my workaround:"
   ]
  },
  {
   "cell_type": "code",
   "execution_count": 3,
   "metadata": {},
   "outputs": [],
   "source": [
    "old_stdout = sys.stdout # Memorize the default stdout stream\n",
    "sys.stdout = buffer = io.StringIO() #we're going to track from that point forward\n",
    "search = twint.Config() #same search as before\n",
    "search.To = 'Tesla' \n",
    "search.Limit = 0\n",
    "search.Since = '2019-07-04'\n",
    "search.Until = '2019-07-05'\n",
    "twint.run.Search(search) \n",
    "output = buffer.getvalue() #saving the tracked data\n",
    "f = open('tweets.txt','w') #write the output down to a txt file\n",
    "f.write(str(output)) #writing over the file each time, this is temporary storage\n",
    "f.close()"
   ]
  },
  {
   "cell_type": "markdown",
   "metadata": {},
   "source": [
    "Notice that when this cell is run, the output doesn't get printed/is not immediately visible. Instead, it's been saved to the .txt, and we can access it from there:"
   ]
  },
  {
   "cell_type": "code",
   "execution_count": 4,
   "metadata": {},
   "outputs": [
    {
     "data": {
      "text/plain": [
       "\"1146931552879857664 2019-07-04 19:59:25 EDT <TrashBoat3015> So this happened today, thought it was appropriate. They all can’t be Tesla, but the RW&B is represented. I’m the blue. 🇺🇸 pic.twitter.com/JesE4pecy3\\n1146931204932931585 2019-07-04 19:58:02 EDT <Auto_nerdz> To you to sir!\\n1146929631729078272 2019-07-04 19:51:47 EDT <MaryDaisy16> Elon, if I ever buy a car again it will be electric; and it will be because you have quietly shown us how and why. @elonmusk\\n1146928818281578500 2019-07-04 19:48:33 EDT <tonyjwinter> Happy #4ofJuly to #Tesla from happy owners! pic.twitter.com/SBtJrkDi7b\\n1146927706287890432 2019-07-04 19:44:08 EDT <R0BOT> Out here charging in Nacogdoches Texas on my way home to Houston from 4th of July festivities. pic.twitter.com/iiuHbJDEJy\\n1146926241968033792 2019-07-04 19:38:19 EDT <Adellasmith2032> Happy 4th of July! pic.twitter.com/NBLIPG44GN\\n1146924172146368512 2019-07-04 19:30:06 EDT <cryptonewszcom> @Tesla can maintain its deliveries momentum by driveway deliveries service #CryptoNewsZ #Car #Revenues https://www.cryptonewsz.com/driveway-deliveries-service-could-help-tesla-to-maintain-deliveries-momentum/29952/\\xa0…\\n1146924137811550208 2019-07-04 19:29:57 EDT <Jimmy93130448>  pic.twitter.com/Vq8YNseTFB\\n1146922030396256257 2019-07-04 19:21:35 EDT <tecnocato> @Tesla damaged (corrected?) my perception of gasoline car sounds: they all sound like farts 💨 now, and they stink (contaminate) too.  Tesla Model 3 VS BMW M3 Top Gear missed it!  https://youtu.be/DZVUcWtnC4s\\xa0 via @YouTube\\n1146921958304387072 2019-07-04 19:21:18 EDT <ZaradOsha> Who needs a truck\\n1146919303981207552 2019-07-04 19:10:45 EDT <isaiahshall> Let us know when to expect that regular default white paint color, please! Waiting to check configuration and purchase\\n1146918183728754689 2019-07-04 19:06:18 EDT <obintouq> @Tesla how i can use the map when I can on the car any way to do that for planning and adding location.\\n1146917383405072384 2019-07-04 19:03:07 EDT <megafishbein> @Tesla should rebrand to “Mars Cars” when @elonmusk gets us there.\\n1146917224298553346 2019-07-04 19:02:29 EDT <PalKindblom> Will it stop for deer 🦌 , moose 🦓 and wild boar 🐗, in Sweden alone it’s >50.000 wild life collisions yearly.\\n1146917160993923075 2019-07-04 19:02:14 EDT <Joachim_Lue> Because Teslas still can't run Minecraft\\n1146917131080085505 2019-07-04 19:02:07 EDT <JObrycki> *raises hand*\\n1146916753848410112 2019-07-04 19:00:37 EDT <mjoyourself> @Tesla is a 5’10 person in the backseat really gonna bump her head on the ceiling if we go over a bumpy road? All the more reason to be the driver in this life... #smh #longlegs\\n1146916244563681280 2019-07-04 18:58:36 EDT <Joachim_Lue> Only if it can run Minecraft\\n1146913857094524933 2019-07-04 18:49:06 EDT <AngryLeftistGuy> @Tesla Can we have an in-car app with weather and radar? Bonus points if it overlays radar on the roadmap.\\n1146913578592755713 2019-07-04 18:48:00 EDT <thediggity90> Yesss\\n\""
      ]
     },
     "execution_count": 4,
     "metadata": {},
     "output_type": "execute_result"
    }
   ],
   "source": [
    "f = open('tweets.txt','r')\n",
    "text = f.read()\n",
    "f.close()\n",
    "text"
   ]
  },
  {
   "cell_type": "markdown",
   "metadata": {},
   "source": [
    "So, my strategy going forward is to run my searches, one day at a time, saving down all the text data into a temporary txt file, and then reading it back up to actually operate on it/perform sentiment analysis."
   ]
  },
  {
   "cell_type": "code",
   "execution_count": 6,
   "metadata": {},
   "outputs": [],
   "source": [
    "#Date formatting function so that dates are strings in the format twint wants\n",
    "def date_formatter(datetime_obj):\n",
    "    year = str(datetime_obj.year)\n",
    "    if len(str(datetime_obj.month))==1:\n",
    "        month = '0'+str(datetime_obj.month)\n",
    "    else:\n",
    "        month = str(datetime_obj.month)\n",
    "        \n",
    "    if len(str(datetime_obj.day))==1:\n",
    "        day = '0'+str(datetime_obj.day)\n",
    "    else:\n",
    "        day = str(datetime_obj.day)\n",
    "    return year+'-'+month+'-'+day\n",
    "\n",
    "#function to perform the scrape, and return the text of the tweets using regex\n",
    "def twitter_scrape(date, company):\n",
    "    old_stdout = sys.stdout \n",
    "    sys.stdout = buffer = io.StringIO()\n",
    "    search = twint.Config()\n",
    "    search.To = company\n",
    "    search.Limit = 10 #change this to a higher number when going to actually get data\n",
    "    search.Since = date_formatter(date)\n",
    "    search.Until = date_formatter(date + datetime.timedelta(1))\n",
    "    twint.run.Search(search)\n",
    "    output = buffer.getvalue()\n",
    "    f = open('tweets.txt','w') #this temp file is always getting written over...\n",
    "    f.write(str(output))\n",
    "    f.close()\n",
    "    f = open('tweets.txt','r')\n",
    "    text = f.read()\n",
    "    f.close()\n",
    "    tweets = text.split('\\n') #split the text up into each individual tweet\n",
    "\n",
    "    p = re.compile(r'.+<.+>(.+)') #the text of the tweet always follws <user_name>\n",
    "    total_text = ''\n",
    "    for tweet in tweets[:-1]:\n",
    "        try:\n",
    "            total_text += p.search(tweet).group(1)\n",
    "        except:\n",
    "            pass\n",
    "    return total_text"
   ]
  },
  {
   "cell_type": "code",
   "execution_count": 9,
   "metadata": {},
   "outputs": [
    {
     "data": {
      "text/plain": [
       "\" Hello 2017 . . . My model III is that much closer to delivery! @TeslaMotors  y @panasonic  comenzarán a producir paneles solares de manera conjunta  https://www.geektopia.es/es/technology/2016/12/28/noticias/tesla-y-panasonic-comenzaran-a-producir-paneles-solares-de-manera-conjunta.html\\xa0… vía @geektopic @TeslaMotors enhanced autopilot to arrive before New Year.  http://readwrite.com/2016/12/28/tesla-autopilot-ex-launch-tl4/?utm_campaign=coschedule&utm_source=twitter&utm_medium=RWW&utm_content=Tesla's%20enhanced%20autopilot%20to%20arrive%20before%20New%20Year\\xa0… via @RWW @DrivenGrowth that will, significantly, be more expensive :)) @TeslaMotors you need to hire this guy asap https://twitter.com/omgitsuzzi/status/815661468108619776\\xa0… @TeslaMotors email to PaloAlto_Service@tesla.com is bouncing. Can you investigate? waiting for non-perf version of 100D MX I wana drive Tesla car, some day I will if u discount it 30% or so... That's really generous! Thanks 😁 Tesla come Poltrone&Sofà .... what happens if you aren't able to Get it by 1/15 What are the fees? if you guys buy Andalay Solar I'll order a model S and X the next day Will the price be reduced after the unlimited charging is removed??? @elonmusk so how much longer will it take for you to complete trade in offers...been waiting...and waiting...and waiting @TeslaMotors faces 3 major tests in 2017 — and it has to pass them all  http://www.businessinsider.com/tesla-challenges-2017-2016-12?utm_campaign=crowdfire&utm_content=crowdfire&utm_medium=social&utm_source=twitter\\xa0… pic.twitter.com/VW2yO51aiW @TeslaMotors seems to be struggling and adding on a struggling @solarcity what does it mean for their future?   http://buff.ly/2hDrhVU\\xa0 Ooo. But no model 3 in the family photo :( @TeslaMotors Pls put Supercharger in Simi Town Center CA or The Oaks Mall CA. Thanks!\""
      ]
     },
     "execution_count": 9,
     "metadata": {},
     "output_type": "execute_result"
    }
   ],
   "source": [
    "start = datetime.datetime(2017,1,1)\n",
    "twitter_scrape(start, 'Tesla')"
   ]
  },
  {
   "cell_type": "code",
   "execution_count": 10,
   "metadata": {},
   "outputs": [],
   "source": [
    "#finally to compile a dataframe of daily sentiment, and save down a csv\n",
    "def compile_twitter_sentiment(start, company, n_days, year):\n",
    "    df = pd.DataFrame(columns=['date','neg','pos','compound'])\n",
    "    sid = SentimentIntensityAnalyzer() #NLTK's VADER sentiment analyzer\n",
    "    for n in range(0,n_days):\n",
    "        date = start+datetime.timedelta(n)\n",
    "        text = twitter_scrape(date, company)\n",
    "        vader = sid.polarity_scores(text)\n",
    "        temp = pd.DataFrame(columns=['date','neg','pos','compound'])\n",
    "        temp['date'] = [date_formatter(date)]\n",
    "        temp['neg'] = [vader['neg']]\n",
    "        temp['pos'] = [vader['pos']]\n",
    "        temp['compound'] = [vader['compound']]\n",
    "        df = pd.concat([df,temp])\n",
    "        df.to_csv(f'{company}_twitter_sentiment_{year}.csv')\n",
    "    return df"
   ]
  },
  {
   "cell_type": "code",
   "execution_count": 11,
   "metadata": {},
   "outputs": [
    {
     "data": {
      "text/html": [
       "<div>\n",
       "<style scoped>\n",
       "    .dataframe tbody tr th:only-of-type {\n",
       "        vertical-align: middle;\n",
       "    }\n",
       "\n",
       "    .dataframe tbody tr th {\n",
       "        vertical-align: top;\n",
       "    }\n",
       "\n",
       "    .dataframe thead th {\n",
       "        text-align: right;\n",
       "    }\n",
       "</style>\n",
       "<table border=\"1\" class=\"dataframe\">\n",
       "  <thead>\n",
       "    <tr style=\"text-align: right;\">\n",
       "      <th></th>\n",
       "      <th>date</th>\n",
       "      <th>neg</th>\n",
       "      <th>pos</th>\n",
       "      <th>compound</th>\n",
       "    </tr>\n",
       "  </thead>\n",
       "  <tbody>\n",
       "    <tr>\n",
       "      <th>0</th>\n",
       "      <td>2017-01-01</td>\n",
       "      <td>0.049</td>\n",
       "      <td>0.060</td>\n",
       "      <td>0.5245</td>\n",
       "    </tr>\n",
       "    <tr>\n",
       "      <th>0</th>\n",
       "      <td>2017-01-02</td>\n",
       "      <td>0.023</td>\n",
       "      <td>0.134</td>\n",
       "      <td>0.9815</td>\n",
       "    </tr>\n",
       "    <tr>\n",
       "      <th>0</th>\n",
       "      <td>2017-01-03</td>\n",
       "      <td>0.016</td>\n",
       "      <td>0.066</td>\n",
       "      <td>0.9342</td>\n",
       "    </tr>\n",
       "    <tr>\n",
       "      <th>0</th>\n",
       "      <td>2017-01-04</td>\n",
       "      <td>0.032</td>\n",
       "      <td>0.237</td>\n",
       "      <td>0.9932</td>\n",
       "    </tr>\n",
       "    <tr>\n",
       "      <th>0</th>\n",
       "      <td>2017-01-05</td>\n",
       "      <td>0.016</td>\n",
       "      <td>0.085</td>\n",
       "      <td>0.9488</td>\n",
       "    </tr>\n",
       "    <tr>\n",
       "      <th>0</th>\n",
       "      <td>2017-01-06</td>\n",
       "      <td>0.000</td>\n",
       "      <td>0.145</td>\n",
       "      <td>0.9896</td>\n",
       "    </tr>\n",
       "    <tr>\n",
       "      <th>0</th>\n",
       "      <td>2017-01-07</td>\n",
       "      <td>0.035</td>\n",
       "      <td>0.101</td>\n",
       "      <td>0.9472</td>\n",
       "    </tr>\n",
       "  </tbody>\n",
       "</table>\n",
       "</div>"
      ],
      "text/plain": [
       "         date    neg    pos  compound\n",
       "0  2017-01-01  0.049  0.060    0.5245\n",
       "0  2017-01-02  0.023  0.134    0.9815\n",
       "0  2017-01-03  0.016  0.066    0.9342\n",
       "0  2017-01-04  0.032  0.237    0.9932\n",
       "0  2017-01-05  0.016  0.085    0.9488\n",
       "0  2017-01-06  0.000  0.145    0.9896\n",
       "0  2017-01-07  0.035  0.101    0.9472"
      ]
     },
     "execution_count": 11,
     "metadata": {},
     "output_type": "execute_result"
    }
   ],
   "source": [
    "compile_twitter_sentiment(start,'Tesla',7,2017)"
   ]
  },
  {
   "cell_type": "code",
   "execution_count": null,
   "metadata": {},
   "outputs": [],
   "source": []
  }
 ],
 "metadata": {
  "kernelspec": {
   "display_name": "Python 3",
   "language": "python",
   "name": "python3"
  },
  "language_info": {
   "codemirror_mode": {
    "name": "ipython",
    "version": 3
   },
   "file_extension": ".py",
   "mimetype": "text/x-python",
   "name": "python",
   "nbconvert_exporter": "python",
   "pygments_lexer": "ipython3",
   "version": "3.7.1"
  }
 },
 "nbformat": 4,
 "nbformat_minor": 2
}
